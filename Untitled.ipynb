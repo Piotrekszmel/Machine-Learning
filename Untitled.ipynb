{
 "cells": [
  {
   "cell_type": "code",
   "execution_count": 77,
   "metadata": {},
   "outputs": [],
   "source": [
    "from itertools import combinations_with_replacement \n",
    "import numpy as np"
   ]
  },
  {
   "cell_type": "code",
   "execution_count": 117,
   "metadata": {},
   "outputs": [],
   "source": [
    "def polynomial_features(X, degree):\n",
    "    n_samples, n_features = np.shape(X)\n",
    "\n",
    "    def index_combinations():\n",
    "        combs = [combinations_with_replacement(range(n_features), i) for i in range(0, degree + 1)]\n",
    "        combs2 = [combinations_with_replacement(range(n_features), i) for i in range(0, degree + 1)]\n",
    "        \n",
    "        flat_combs = [item for sublist in combs for item in sublist]\n",
    "        return flat_combs, combs2\n",
    "    \n",
    "    combinations, combs2 = index_combinations()\n",
    "    n_output_feature = len(combinations)\n",
    "    X_new = np.zeros((n_samples, n_output_feature))\n",
    "\n",
    "    for i, index_combs in enumerate(combinations):\n",
    "        print(index_combs)\n",
    "        print(\"X: \", X[:, index_combs])\n",
    "        print(\"PRE: \", X_new)\n",
    "        X_new[:, i] = np.prod(X[:, index_combs], axis=1)\n",
    "        print(\"AFTER: \", X_new)\n",
    "        print(\"\\n\")\n",
    "    return X_new, combs2"
   ]
  },
  {
   "cell_type": "code",
   "execution_count": 120,
   "metadata": {},
   "outputs": [
    {
     "name": "stdout",
     "output_type": "stream",
     "text": [
      "()\n",
      "X:  []\n",
      "PRE:  [[0. 0. 0. 0. 0. 0. 0. 0. 0. 0.]]\n",
      "AFTER:  [[1. 0. 0. 0. 0. 0. 0. 0. 0. 0.]]\n",
      "\n",
      "\n",
      "(0,)\n",
      "X:  [[1]]\n",
      "PRE:  [[1. 0. 0. 0. 0. 0. 0. 0. 0. 0.]]\n",
      "AFTER:  [[1. 1. 0. 0. 0. 0. 0. 0. 0. 0.]]\n",
      "\n",
      "\n",
      "(1,)\n",
      "X:  [[2]]\n",
      "PRE:  [[1. 1. 0. 0. 0. 0. 0. 0. 0. 0.]]\n",
      "AFTER:  [[1. 1. 2. 0. 0. 0. 0. 0. 0. 0.]]\n",
      "\n",
      "\n",
      "(2,)\n",
      "X:  [[3]]\n",
      "PRE:  [[1. 1. 2. 0. 0. 0. 0. 0. 0. 0.]]\n",
      "AFTER:  [[1. 1. 2. 3. 0. 0. 0. 0. 0. 0.]]\n",
      "\n",
      "\n",
      "(0, 0)\n",
      "X:  [[1 1]]\n",
      "PRE:  [[1. 1. 2. 3. 0. 0. 0. 0. 0. 0.]]\n",
      "AFTER:  [[1. 1. 2. 3. 1. 0. 0. 0. 0. 0.]]\n",
      "\n",
      "\n",
      "(0, 1)\n",
      "X:  [[1 2]]\n",
      "PRE:  [[1. 1. 2. 3. 1. 0. 0. 0. 0. 0.]]\n",
      "AFTER:  [[1. 1. 2. 3. 1. 2. 0. 0. 0. 0.]]\n",
      "\n",
      "\n",
      "(0, 2)\n",
      "X:  [[1 3]]\n",
      "PRE:  [[1. 1. 2. 3. 1. 2. 0. 0. 0. 0.]]\n",
      "AFTER:  [[1. 1. 2. 3. 1. 2. 3. 0. 0. 0.]]\n",
      "\n",
      "\n",
      "(1, 1)\n",
      "X:  [[2 2]]\n",
      "PRE:  [[1. 1. 2. 3. 1. 2. 3. 0. 0. 0.]]\n",
      "AFTER:  [[1. 1. 2. 3. 1. 2. 3. 4. 0. 0.]]\n",
      "\n",
      "\n",
      "(1, 2)\n",
      "X:  [[2 3]]\n",
      "PRE:  [[1. 1. 2. 3. 1. 2. 3. 4. 0. 0.]]\n",
      "AFTER:  [[1. 1. 2. 3. 1. 2. 3. 4. 6. 0.]]\n",
      "\n",
      "\n",
      "(2, 2)\n",
      "X:  [[3 3]]\n",
      "PRE:  [[1. 1. 2. 3. 1. 2. 3. 4. 6. 0.]]\n",
      "AFTER:  [[1. 1. 2. 3. 1. 2. 3. 4. 6. 9.]]\n",
      "\n",
      "\n",
      "\n",
      "\n",
      "\n",
      "[[1. 1. 2. 3. 1. 2. 3. 4. 6. 9.]]\n"
     ]
    }
   ],
   "source": [
    "X = np.array([[1,2,3]])\n",
    "X_new, combs2 = polynomial_features(X, 2)\n",
    "print(\"\\n\\n\")\n",
    "print(X_new)"
   ]
  },
  {
   "cell_type": "code",
   "execution_count": 86,
   "metadata": {},
   "outputs": [
    {
     "name": "stdout",
     "output_type": "stream",
     "text": [
      "[[1. 1. 2. 3. 1. 2. 3. 4. 6. 9.]]\n"
     ]
    }
   ],
   "source": [
    "from sklearn.preprocessing import PolynomialFeatures\n",
    "poly = PolynomialFeatures(2)\n",
    "X_new2 = poly.fit_transform([[1,2,3]])\n",
    "print(X_new2)"
   ]
  },
  {
   "cell_type": "code",
   "execution_count": 98,
   "metadata": {},
   "outputs": [
    {
     "name": "stdout",
     "output_type": "stream",
     "text": [
      "[()]\n",
      "[(0,), (1,), (2,)]\n",
      "[(0, 0), (0, 1), (0, 2), (1, 1), (1, 2), (2, 2)]\n"
     ]
    }
   ],
   "source": [
    "for c in combs2:\n",
    "    print(list(c))"
   ]
  },
  {
   "cell_type": "code",
   "execution_count": 104,
   "metadata": {},
   "outputs": [
    {
     "data": {
      "text/plain": [
       "array([3, 8])"
      ]
     },
     "execution_count": 104,
     "metadata": {},
     "output_type": "execute_result"
    }
   ],
   "source": [
    "np.prod([[1,2], [3, 4]], axis=0)"
   ]
  },
  {
   "cell_type": "code",
   "execution_count": 121,
   "metadata": {},
   "outputs": [
    {
     "data": {
      "text/plain": [
       "array([1.])"
      ]
     },
     "execution_count": 121,
     "metadata": {},
     "output_type": "execute_result"
    }
   ],
   "source": [
    "np.prod([[]], axis=1)"
   ]
  },
  {
   "cell_type": "code",
   "execution_count": null,
   "metadata": {},
   "outputs": [],
   "source": []
  }
 ],
 "metadata": {
  "kernelspec": {
   "display_name": "Python 3",
   "language": "python",
   "name": "python3"
  },
  "language_info": {
   "codemirror_mode": {
    "name": "ipython",
    "version": 3
   },
   "file_extension": ".py",
   "mimetype": "text/x-python",
   "name": "python",
   "nbconvert_exporter": "python",
   "pygments_lexer": "ipython3",
   "version": "3.6.9"
  }
 },
 "nbformat": 4,
 "nbformat_minor": 4
}
